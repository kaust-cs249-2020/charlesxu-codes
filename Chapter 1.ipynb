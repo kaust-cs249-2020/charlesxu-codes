{
 "cells": [
  {
   "cell_type": "markdown",
   "metadata": {},
   "source": [
    "## Code Challenge: Implement PatternCount (reproduced below).\n",
    "- Input: Strings Text and Pattern.\n",
    "- Output: Count(Text, Pattern).\n",
    "\n",
    "``` python\n",
    "PatternCount(Text, Pattern)\n",
    "  count ← 0\n",
    "  for i ← 0 to |Text| − |Pattern|\n",
    "    if Text(i, |Pattern|) = Pattern\n",
    "      count ← count + 1\n",
    "  return count\n",
    "```"
   ]
  },
  {
   "cell_type": "code",
   "execution_count": 1,
   "metadata": {},
   "outputs": [],
   "source": [
    "def PatternCount(text, pattern):\n",
    "    count = 0\n",
    "    txt = text.replace(\" \", \"\") \n",
    "    for i in range(len(txt) - len(pattern) + 1):\n",
    "        if txt[i:i+len(pattern)] == pattern:\n",
    "            count += 1\n",
    "            \n",
    "    return count"
   ]
  },
  {
   "cell_type": "code",
   "execution_count": 2,
   "metadata": {},
   "outputs": [
    {
     "data": {
      "text/plain": [
       "2"
      ]
     },
     "execution_count": 2,
     "metadata": {},
     "output_type": "execute_result"
    }
   ],
   "source": [
    "# input\n",
    "text = \"GCGCG\"\n",
    "pattern = \"GCG\"\n",
    "\n",
    "PatternCount(text, pattern)\n",
    "# output 2"
   ]
  },
  {
   "cell_type": "code",
   "execution_count": 3,
   "metadata": {},
   "outputs": [
    {
     "data": {
      "text/plain": [
       "3"
      ]
     },
     "execution_count": 3,
     "metadata": {},
     "output_type": "execute_result"
    }
   ],
   "source": [
    "# input\n",
    "text = \"ACGTACGTACGT\"\n",
    "pattern = \"CG\"\n",
    "\n",
    "PatternCount(text, pattern)\n",
    "# output 3"
   ]
  },
  {
   "cell_type": "code",
   "execution_count": 4,
   "metadata": {},
   "outputs": [
    {
     "data": {
      "text/plain": [
       "4"
      ]
     },
     "execution_count": 4,
     "metadata": {},
     "output_type": "execute_result"
    }
   ],
   "source": [
    "# input\n",
    "text = \"AAAGAGTGTCTGATAGCAGCTTCTGAACTGGTTACCTGCCGTGAGTAAATTAAATTTTATTGACTTAGGTCACTAAATACTTTAACCAATATAGGCATAGCGCACAGACAGATAATAATTACAGAGTACACAACATCCAT\"\n",
    "pattern = \"AAA\"\n",
    "\n",
    "PatternCount(text, pattern)\n",
    "# output 4"
   ]
  },
  {
   "cell_type": "code",
   "execution_count": 5,
   "metadata": {},
   "outputs": [
    {
     "data": {
      "text/plain": [
       "4"
      ]
     },
     "execution_count": 5,
     "metadata": {},
     "output_type": "execute_result"
    }
   ],
   "source": [
    "# input\n",
    "text = \"AGCGTGCCGAAATATGCCGCCAGACCTGCTGCGGTGGCCTCGCCGACTTCACGGATGCCAAGTGCATAGAGGAAGCGAGCAAAGGTGGTTTCTTTCGCTTTATCCAGCGCGTTAACCACGTTCTGTGCCGACTTT\"\n",
    "pattern = \"TTT\"\n",
    "\n",
    "PatternCount(text, pattern)\n",
    "# output 4"
   ]
  },
  {
   "cell_type": "code",
   "execution_count": 6,
   "metadata": {},
   "outputs": [
    {
     "data": {
      "text/plain": [
       "2"
      ]
     },
     "execution_count": 6,
     "metadata": {},
     "output_type": "execute_result"
    }
   ],
   "source": [
    "# input\n",
    "text = \"GGACTTACTGACGTACG\"\n",
    "pattern = \"ACT\"\n",
    "\n",
    "PatternCount(text, pattern)\n",
    "# output 2"
   ]
  },
  {
   "cell_type": "code",
   "execution_count": 7,
   "metadata": {},
   "outputs": [
    {
     "data": {
      "text/plain": [
       "5"
      ]
     },
     "execution_count": 7,
     "metadata": {},
     "output_type": "execute_result"
    }
   ],
   "source": [
    "# input\n",
    "text = \"ATCCGATCCCATGCCCATG\"\n",
    "pattern = \"CC\"\n",
    "\n",
    "PatternCount(text, pattern)\n",
    "# output 5"
   ]
  },
  {
   "cell_type": "code",
   "execution_count": 8,
   "metadata": {},
   "outputs": [
    {
     "data": {
      "text/plain": [
       "9"
      ]
     },
     "execution_count": 8,
     "metadata": {},
     "output_type": "execute_result"
    }
   ],
   "source": [
    "# input\n",
    "text = \"CTGTTTTTGATCCATGATATGTTATCTCTCCGTCATCAGAAGAACAGTGACGGATCGCCCTCTCTCTTGGTCAGGCGACCGTTTGCCATAATGCCCATGCTTTCCAGCCAGCTCTCAAACTCCGGTGACTCGCGCAGGTTGAGTA\"\n",
    "pattern = \"CTC\"\n",
    "\n",
    "PatternCount(text, pattern)\n",
    "# output 9"
   ]
  },
  {
   "cell_type": "code",
   "execution_count": 11,
   "metadata": {},
   "outputs": [
    {
     "data": {
      "text/plain": [
       "35"
      ]
     },
     "execution_count": 11,
     "metadata": {},
     "output_type": "execute_result"
    }
   ],
   "source": [
    "# dataset\n",
    "text = \"CGATCTTATTTCCGATCTTAAGATCTTATATTGATCTTACCGATCTTAGATCTTATTTACGATCTTATTGGATCTTAGATCTTACGATCTTAGTGATCTTAGATCTTAGATCTTATTTAGAGTACAGTCGATCTTAGATCTTAGATCTTATGGATCTTAGTCCGATCTTAGATCTTAGACGGATCTTAGATCTTAGATCTTAGATCTTAGATCTTACGCCGATCTTAAGATCTTATGATCTTATCGATCTTACGATCTTAGATCTTAGATCTTATCGATCTTATGGATCTTAAGATCTTAGATCTTAAGCGGATCTTAGATCTTATGGGATCTTAGCGATCTTAGATCTTAGAAAGATCTTAAGAGTACAGATCTTAGATCTTATGATCTTAACATGATCTTAAAGATCTTACGTGATCTTAAAGATCTTAGATCTTAGATCTTAGCAGATCTTAATTAGATCTTATCGATCTTAACGCGATCTTAGATCTTAGATCTTAAGGATCTTACGATCTTATGCGATCTTACGATCTTAATGGATCTTAGGATCTTAGGATCTTACGATCTTAGCGATCTTAGATCTTAGATCTTAGATCTTAAAGGATCTTAAACACTATGGAGTGAGATCTTAGTCGCGATCTTACCGATCTTATAGATCTTAGATCTTAGATCTTACGATCTTAAGATCTTATCGATCTTAATACGATCTTAGATCTTAAGCGATCTTACGGATCTTAAATAACATAATGAGAAGATCTTACGGATCTTAGGATCTTAGTCTGATCTTACGATCTTAAGGATCTTAGATCTTAGATCTTAGATCTTAGATCTTAACCTGCGATCTTAAGATCTTATTCTCGAGATCTTATGATCTTATGATCTTACGGTTCTGATCTTAGTGACTGATCTTATCAGATCTTAGATCTTATGATCTTATTTAAGGGATCTTACAGTGATCTTACGGATCTTAGATCTTACGTGCGATCTTAAAAGATCTTAGGATCTTACGATCTTAAGATCTTATCAA\"\n",
    "pattern = \"GATCTTAGA\"\n",
    "\n",
    "PatternCount(text, pattern)"
   ]
  },
  {
   "cell_type": "code",
   "execution_count": 13,
   "metadata": {},
   "outputs": [
    {
     "data": {
      "text/plain": [
       "28"
      ]
     },
     "execution_count": 13,
     "metadata": {},
     "output_type": "execute_result"
    }
   ],
   "source": [
    "# dataset\n",
    "text = \"TGTGCGAGGCCTACAATTGGCGAGGCCCGACCGAGGCCCCCCTTACGAGGCCCGAGGCCCGAGGCCACCGAGGCCTTATCGAGGCCCGAGGCCCCGAGGCCGACAACGCGAGGCCCGAGGCCCGAGGCCTACGAGGCCCGAGGCCCGAGGCCTTGCGAGGCCCACGAGGCCCCGAGGCCCGAGGCCCGCCGAGGCCAAACGGCTCGAGGCCTAAGCTTCCACGAGGCCACGAGGCCGGAGCGAGGCCCGAGGCCACACGAGGCCTCGAGGCCACGAGGCCCGAGGCCAACGAGGCCATCCGAGGCCGGTTCCCGCCAAGGAAAGCTTCGAGGCCCGAGGCCTGAGACGAGGCCTTCGAGGCCCCGAGGCCACGAGGCCGCTCGAGGCCTAAATGCCGAGGCCAGCGAGGCCCGAGGCCAAACGAGGCCACGAGGCCGCGAGGCCCTCGAGGCCACGAGGCCGCCGAGGCCCTACGAGGCCCGAGGCCCGAGGCCCCCGAGGCCCGAGGCCACGAGGCCGCGAGGCCACCCCCGAGGCCCTATCGAGGCCGCCGAGGCCCCGAGGCCGGACGAGGCCTCGCTCGAGGCCTCGAGGCCAGGGGCACCACGAGGCCCGAGGCCGTCGAGGCCCGAGGCCTCTGAGACCTTCCTAGGCACGAGGCCAGACGAGGCCTCGAGGCCTGTATGCACGAGGCCCACTCGAGGCCCTCAGGAACGCCTCGAGGCCTCGTCATTCCCGACGAGGCCCCGAGGCCTCAATGCGAGGCCAGGCGACGAGGCCCTCATTCGTTATTGGCGAGGCCCGAGGCCGAATCGAGGCCAAGCGAGGCCCGAGGCCTCGAGGCCGTAACGAGGCCTGACGAGGCCGCACGAGGCCTGCGAGGCCTCGAGGCCCGAGGCCCCGAGGCCTTTCGCCGAGGCCGCAATCGAGGCCCGAGGCCCGAGGCCCACGAGGCCGCGAGGCCCGAGGCCCACGAGGCCGCGAGGCCCGAGGCCCGTCTCGAGGCCCGAGGCCCTATCGAGGCCTACGTCGAGGCCATCATGCGAGGCCC\"\n",
    "pattern = \"CGAGGCCCG\"\n",
    "\n",
    "PatternCount(text, pattern)\n"
   ]
  },
  {
   "cell_type": "markdown",
   "metadata": {},
   "source": [
    "## Solve the Frequent Words Problem\n",
    "\n",
    "- Input: A string Text and an integer k.\n",
    "- Output: All most frequent k-mers in Text.\n",
    "\n",
    "Pseudo code 1:\n",
    "\n",
    "```python\n",
    "FrequentWords(Text, k)\n",
    "    FrequentPatterns ← an empty set\n",
    "    for i ← 0 to |Text| − k\n",
    "        Pattern ← the k-mer Text(i, k)\n",
    "        Count(i) ← PatternCount(Text, Pattern)\n",
    "    maxCount ← maximum value in array Count\n",
    "    for i ← 0 to |Text| − k\n",
    "        if Count(i) = maxCount\n",
    "            add Text(i, k) to FrequentPatterns\n",
    "    remove duplicates from Freque\n",
    "```\n",
    "\n",
    "Pseudo code 2:\n",
    "``` python\n",
    "FrequencyTable(Text, k)\n",
    "    freqMap ← empty map\n",
    "    n ← |Text|\n",
    "    for i ← 0 to n − k\n",
    "        Pattern ← Text(i, k)\n",
    "        if freqMap[Pattern] doesn't exist\n",
    "            freqMap[Pattern]← 1\n",
    "        else\n",
    "           freqMap[pattern] ←freqMap[pattern]+1 \n",
    "    return freqMap\n",
    "\n",
    "\n",
    "BetterFrequentWords(Text, k)\n",
    "    FrequentPatterns ← an array of strings of length 0\n",
    "    freqMap ← FrequencyTable(Text, k)\n",
    "    max ← MaxMap(freqMap)\n",
    "    for all strings Pattern in freqMap\n",
    "        if freqMap[pattern] = max\n",
    "            append Pattern to frequentPatterns\n",
    "    return frequentPatterns\n",
    "```"
   ]
  },
  {
   "cell_type": "code",
   "execution_count": 22,
   "metadata": {},
   "outputs": [],
   "source": [
    "# solution 1\n",
    "def FrequentWords(text, k):\n",
    "    frequentPatterns = set()\n",
    "    count = []\n",
    "    for i in range(len(text) - k + 1):\n",
    "        pattern = text[i:i+k]\n",
    "        count.append(PatternCount(text, pattern))\n",
    "        \n",
    "    maxCount = max(count)\n",
    "    for i in range(len(text) - k + 1):\n",
    "        if count[i] == maxCount:\n",
    "            frequentPatterns.add(text[i:i+k])\n",
    "    return list(frequentPatterns)"
   ]
  },
  {
   "cell_type": "code",
   "execution_count": 38,
   "metadata": {},
   "outputs": [
    {
     "data": {
      "text/plain": [
       "['CTC']"
      ]
     },
     "execution_count": 38,
     "metadata": {},
     "output_type": "execute_result"
    }
   ],
   "source": [
    "# input\n",
    "text = \"CTGTTTTTGATCCATGATATGTTATCTCTCCGTCATCAGAAGAACAGTGACGGATCGCCCTCTCTCTTGGTCAGGCGACCGTTTGCCATAATGCCCATGCTTTCCAGCCAGCTCTCAAACTCCGGTGACTCGCGCAGGTTGAGTA\"\n",
    "k = 3\n",
    "\n",
    "FrequentWords(text, k)"
   ]
  },
  {
   "cell_type": "code",
   "execution_count": 34,
   "metadata": {},
   "outputs": [],
   "source": [
    "# solution 2\n",
    "def frequencyTable(text, k):\n",
    "    freqMap = dict()\n",
    "    n = len(text)\n",
    "    for i in range(n-k+1):\n",
    "        Pattern = text[i:i+k]\n",
    "        if Pattern not in freqMap:\n",
    "            freqMap[Pattern] = 1\n",
    "        else:\n",
    "            freqMap[Pattern] += 1 \n",
    "    return freqMap\n",
    "\n",
    "\n",
    "def betterFrequentWords(text, k):\n",
    "    frequentPatterns = list()\n",
    "    freqMap = frequencyTable(text, k)\n",
    "    maxCount = max(freqMap.values())\n",
    "    for key, value in freqMap.items():\n",
    "        if value == maxCount:\n",
    "            frequentPatterns.append(key)\n",
    "    return frequentPatterns"
   ]
  },
  {
   "cell_type": "code",
   "execution_count": 37,
   "metadata": {},
   "outputs": [
    {
     "data": {
      "text/plain": [
       "['GCAT', 'CATG']"
      ]
     },
     "execution_count": 37,
     "metadata": {},
     "output_type": "execute_result"
    }
   ],
   "source": [
    "# input\n",
    "text = \"ACGTTGCATGTCGCATGATGCATGAGAGCT\"\n",
    "k = 4\n",
    "\n",
    "betterFrequentWords(text, k)"
   ]
  },
  {
   "cell_type": "code",
   "execution_count": 39,
   "metadata": {},
   "outputs": [
    {
     "data": {
      "text/plain": [
       "['CAGCGCTAACTATG', 'AGCGCTAACTATGA', 'GCGCTAACTATGAT', 'CGCTAACTATGATC']"
      ]
     },
     "execution_count": 39,
     "metadata": {},
     "output_type": "execute_result"
    }
   ],
   "source": [
    "# input\n",
    "text = \"TGTCCATGTCAGCGCTAACTATGATCGCTGGTATTTGTCCATGTCAGCGCTAACTATGATCACTATGATCTGTCCATGTTGTCCATGTATCGCTGGCTGTCCATGTATCGCTGGCACTATGATCTGTCCATGTGCTGGTATTCAGCGCTATGTCCATGTGCTGGTATTCAGCGCTACAGCGCTACAGCGCTAACTATGATCCAGCGCTAGCTGGTATTATCGCTGGCTGTCCATGTCAGCGCTAACTATGATCCAGCGCTAATCGCTGGCTGTCCATGTGCTGGTATTTGTCCATGTGCTGGTATTCAGCGCTAGCTGGTATTCAGCGCTAATCGCTGGCACTATGATCGCTGGTATTACTATGATCATCGCTGGCACTATGATCACTATGATCCAGCGCTACAGCGCTACAGCGCTAGCTGGTATTGCTGGTATTATCGCTGGCCAGCGCTATGTCCATGTACTATGATCTGTCCATGTTGTCCATGTCAGCGCTACAGCGCTAACTATGATCCAGCGCTAACTATGATCACTATGATCATCGCTGGCATCGCTGGCATCGCTGGCACTATGATCTGTCCATGTACTATGATCCAGCGCTAATCGCTGGCTGTCCATGTATCGCTGGCGCTGGTATTCAGCGCTATGTCCATGTACTATGATCATCGCTGGCGCTGGTATTCAGCGCTACAGCGCTAACTATGATCTGTCCATGTGCTGGTATTATCGCTGGCACTATGATCTGTCCATGTACTATGATCCAGCGCTATGTCCATGTCAGCGCTATGTCCATGT\"\n",
    "k = 14\n",
    "\n",
    "betterFrequentWords(text, k)"
   ]
  },
  {
   "cell_type": "code",
   "execution_count": null,
   "metadata": {},
   "outputs": [],
   "source": []
  }
 ],
 "metadata": {
  "kernelspec": {
   "display_name": "Python 3",
   "language": "python",
   "name": "python3"
  },
  "language_info": {
   "codemirror_mode": {
    "name": "ipython",
    "version": 3
   },
   "file_extension": ".py",
   "mimetype": "text/x-python",
   "name": "python",
   "nbconvert_exporter": "python",
   "pygments_lexer": "ipython3",
   "version": "3.7.2"
  }
 },
 "nbformat": 4,
 "nbformat_minor": 2
}
